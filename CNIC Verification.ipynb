{
 "cells": [
  {
   "cell_type": "code",
   "execution_count": 1,
   "metadata": {},
   "outputs": [
    {
     "name": "stdout",
     "output_type": "stream",
     "text": [
      "Do you have CNIC?yes\n",
      "He has valid CNIC\n",
      "Is your name in the voter list?yes\n",
      "You're a registered voter\n",
      "You can cast vote\n"
     ]
    }
   ],
   "source": [
    "user_cnic = (input(\"Do you have CNIC?\").lower())\n",
    "if user_cnic == 'yes':\n",
    "    print(\"He has valid CNIC\")\n",
    "    voter_list = (input(\"Is your name in the voter list?\")).lower()\n",
    "    if voter_list == 'yes':\n",
    "        print(\"You're a registered voter\")\n",
    "        print(\"You can cast vote\")\n",
    "    else:\n",
    "        print(\"You cannot cast vote\")\n",
    "\n",
    "else:\n",
    "    print(\"You can't cast the vote\")\n",
    "    \n",
    "    "
   ]
  },
  {
   "cell_type": "code",
   "execution_count": 8,
   "metadata": {},
   "outputs": [
    {
     "name": "stdout",
     "output_type": "stream",
     "text": [
      "Show me your Ticket?yes\n",
      "Is this your ticket?yes\n",
      "Your ticket is valid\n",
      "You can enter cinema\n"
     ]
    }
   ],
   "source": [
    "user_input = input(\"Show me your Ticket?\")\n",
    "if user_input == 'yes':\n",
    "    ans_input = input(\"Is this your ticket?\")\n",
    "    if user_input == 'yes':\n",
    "        print(\"Your ticket is valid\")\n",
    "        print(\"You can enter cinema\")\n",
    "    else:\n",
    "        print(\"show me again\")\n",
    "else:\n",
    "    print(\"You can't enter cinema\")\n",
    "   "
   ]
  },
  {
   "cell_type": "markdown",
   "metadata": {},
   "source": []
  }
 ],
 "metadata": {
  "kernelspec": {
   "display_name": "Python 3",
   "language": "python",
   "name": "python3"
  },
  "language_info": {
   "codemirror_mode": {
    "name": "ipython",
    "version": 3
   },
   "file_extension": ".py",
   "mimetype": "text/x-python",
   "name": "python",
   "nbconvert_exporter": "python",
   "pygments_lexer": "ipython3",
   "version": "3.7.3"
  }
 },
 "nbformat": 4,
 "nbformat_minor": 2
}
